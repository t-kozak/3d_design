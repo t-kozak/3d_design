{
 "cells": [
  {
   "cell_type": "code",
   "execution_count": null,
   "id": "78fe7780",
   "metadata": {},
   "outputs": [],
   "source": [
    "# Imports\n",
    "from dataclasses import asdict, dataclass\n",
    "import json\n",
    "import cadquery as cq\n",
    "from teardrop import teardrop\n",
    "from tools import show\n"
   ]
  },
  {
   "cell_type": "code",
   "execution_count": null,
   "id": "7c630871",
   "metadata": {},
   "outputs": [],
   "source": [
    "# Dims\n",
    "\n",
    "\n",
    "@dataclass\n",
    "class BentoBoxBaseDims:\n",
    "    width: float = 52.8\n",
    "    lenght: float = 112.6\n",
    "    height: float = 51.3\n",
    "    base_front_edge_to_arch_contact_point: float = 27.0\n",
    "\n",
    "\n",
    "@dataclass\n",
    "class PowerInputDims:\n",
    "    pass"
   ]
  }
 ],
 "metadata": {
  "language_info": {
   "name": "python"
  }
 },
 "nbformat": 4,
 "nbformat_minor": 5
}
